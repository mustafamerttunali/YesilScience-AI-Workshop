{
 "cells": [
  {
   "cell_type": "markdown",
   "metadata": {},
   "source": [
    "\n",
    "# Yesil Science - Machine Learning Workshop -  Yeditepe University IEEE WIE - 24.11.2019"
   ]
  },
  {
   "cell_type": "markdown",
   "metadata": {},
   "source": [
    "### Simple Artificial Neural Network"
   ]
  },
  {
   "cell_type": "markdown",
   "metadata": {},
   "source": [
    "#### Import libraries"
   ]
  },
  {
   "cell_type": "code",
   "execution_count": 1,
   "metadata": {},
   "outputs": [],
   "source": [
    "import decimal\n",
    "import numpy as np\n",
    "import matplotlib.pyplot as plt\n"
   ]
  },
  {
   "cell_type": "markdown",
   "metadata": {},
   "source": [
    "#### Main"
   ]
  },
  {
   "cell_type": "code",
   "execution_count": 3,
   "metadata": {},
   "outputs": [
    {
     "name": "stdout",
     "output_type": "stream",
     "text": [
      "Weights:  [[-0.57323111]\n",
      " [-0.23653979]\n",
      " [ 0.31048407]\n",
      " [ 0.94200269]]\n",
      "First weights:  [[-0.57323111]\n",
      " [-0.23653979]\n",
      " [ 0.31048407]\n",
      " [ 0.94200269]]\n",
      "Weights after training:  [[ 8.94528437]\n",
      " [-3.70704292]\n",
      " [-1.56727369]\n",
      " [-4.36900959]]\n",
      "The answer for [0 0 1 0] is: 0\n"
     ]
    }
   ],
   "source": [
    "\n",
    "class ANN:\n",
    "\n",
    "    def __init__(self):\n",
    "       \n",
    "        self.weights = 2 * np.random.random((4, 1)) - 1\n",
    "        print(\"Weights: \", self.weights)\n",
    "\n",
    "    def sigmoid(self, x):\n",
    "        return 1 / (1 + np.exp(-x))\n",
    "\n",
    "    def sigmoid_derivative(self, x):\n",
    "        return x * (1 - x)\n",
    "\n",
    "    def predict(self, inputs):\n",
    "        # e.g. [1,0,0,1]\n",
    "        inputs = inputs.astype(float)\n",
    "        output = self.sigmoid(np.dot(inputs, self.weights))\n",
    "        return output\n",
    "\n",
    "    def train(self, training_inputs, training_outputs, number_of_iterations):\n",
    "        for self.iteration in range(number_of_iterations):\n",
    "            output = self.predict(training_inputs)\n",
    "            self.error = training_outputs - output\n",
    "            adjustments = np.dot(training_inputs.T, self.error * self.sigmoid_derivative(output))\n",
    "            self.weights += adjustments\n",
    "\n",
    "\n",
    "if __name__ == \"__main__\":\n",
    "    ann = ANN()\n",
    "\n",
    "    print(\"First weights:  {}\".format(ann.weights))\n",
    "   \n",
    "    iterations = 10000\n",
    "\n",
    "    training_inputs = np.array([[1, 0, 0, 1],\n",
    "                                [0, 1, 1, 0],\n",
    "                                [1, 0, 1, 0],\n",
    "                                [0, 0, 0, 1]])\n",
    "\n",
    "    training_outputs = np.array([[1],\n",
    "                                 [0],\n",
    "                                 [1],\n",
    "                                 [0]])\n",
    "\n",
    "    ann.train(training_inputs, training_outputs, iterations)\n",
    "\n",
    "\n",
    "    print(\"Weights after training:  {}\".format(ann.weights))\n",
    "\n",
    "\n",
    "    input = np.array([0, 0, 1, 0])\n",
    "    output = ann.predict(input)  # e.g. 0.9989834\n",
    "\n",
    "    result = decimal.Decimal(output[0]).quantize(decimal.Decimal('1'), rounding=decimal.ROUND_HALF_UP)\n",
    "    print(\"The answer for {} is: {}\".format(input, result))\n",
    "\n"
   ]
  },
  {
   "cell_type": "code",
   "execution_count": null,
   "metadata": {},
   "outputs": [],
   "source": []
  }
 ],
 "metadata": {
  "kernelspec": {
   "display_name": "Python 3",
   "language": "python",
   "name": "python3"
  },
  "language_info": {
   "codemirror_mode": {
    "name": "ipython",
    "version": 3
   },
   "file_extension": ".py",
   "mimetype": "text/x-python",
   "name": "python",
   "nbconvert_exporter": "python",
   "pygments_lexer": "ipython3",
   "version": "3.7.3"
  }
 },
 "nbformat": 4,
 "nbformat_minor": 2
}
